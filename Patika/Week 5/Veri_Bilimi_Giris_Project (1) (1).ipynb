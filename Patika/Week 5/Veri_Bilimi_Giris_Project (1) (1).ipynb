{
 "cells": [
  {
   "cell_type": "markdown",
   "id": "90e5b7be",
   "metadata": {},
   "source": [
    "# Exploratory Data Analysis\n",
    "\n",
    "###  Before you model the processes to arrive at a solution, it’s necessary to examine the data. It's the most fascinating step since it allows you to get to know the data and extract useful insights. If you neglect this stage, you may end up with inaccuracy in your models and the selection of unimportant variables in your model.\n",
    "\n",
    "### However, it may be challenging and demanding. Is it possible to study data in a meaningful way using tools or techniques? Yes, descriptive statistics such as central value measures and variability measures can be used. For analysis, visualisation tools like as graphs and plots can also be used.\n",
    "\n",
    "### Data analysis is an iterative process that assists in getting closer to a solution. Every iteration comes at a price. As a result, it is recommended that you prepare carefully as a data scientist in order to decrease the number of repetitions. You may experiment with data, make your own graphs, and learn to draw conclusions. All of the analyses you did are called to as exploratory data analysis. Now it's time to practice and make your own exploratory data analysis !"
   ]
  },
  {
   "cell_type": "code",
   "execution_count": null,
   "id": "23fba0f4",
   "metadata": {},
   "outputs": [],
   "source": []
  }
 ],
 "metadata": {
  "kernelspec": {
   "display_name": "Python 3",
   "language": "python",
   "name": "python3"
  },
  "language_info": {
   "codemirror_mode": {
    "name": "ipython",
    "version": 3
   },
   "file_extension": ".py",
   "mimetype": "text/x-python",
   "name": "python",
   "nbconvert_exporter": "python",
   "pygments_lexer": "ipython3",
   "version": "3.8.10"
  }
 },
 "nbformat": 4,
 "nbformat_minor": 5
}
